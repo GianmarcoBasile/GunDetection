{
 "cells": [
  {
   "cell_type": "code",
   "execution_count": null,
   "metadata": {},
   "outputs": [],
   "source": [
    "%pip install -r requirements.txt"
   ]
  },
  {
   "cell_type": "code",
   "execution_count": 2,
   "metadata": {},
   "outputs": [],
   "source": [
    "import os\n",
    "\n",
    "HOME = os.getcwd()\n",
    "\n",
    "if \"Dataset\" not in os.listdir(HOME):\n",
    "  try:\n",
    "    os.mkdir(HOME + \"/Dataset\")\n",
    "  except FileExistsError:\n",
    "    pass"
   ]
  },
  {
   "cell_type": "code",
   "execution_count": 3,
   "metadata": {},
   "outputs": [],
   "source": [
    "Dataset = HOME + \"/Dataset\"\n",
    "\n",
    "if \"Images\" not in os.listdir(Dataset):\n",
    "  try:\n",
    "    os.mkdir(Dataset + \"/Images\")\n",
    "  except FileExistsError:\n",
    "    pass\n",
    "\n",
    "images_folder = Dataset + \"/Images\"\n"
   ]
  },
  {
   "cell_type": "code",
   "execution_count": 4,
   "metadata": {},
   "outputs": [],
   "source": [
    "from dotenv import load_dotenv\n",
    "\n",
    "load_dotenv()\n",
    "\n",
    "roboflow_api_key = os.getenv(\"ROBOFLOW_API_KEY\")"
   ]
  },
  {
   "cell_type": "code",
   "execution_count": null,
   "metadata": {},
   "outputs": [],
   "source": [
    "from roboflow import Roboflow\n",
    "\n",
    "os.chdir(images_folder)\n",
    "rf = Roboflow(api_key=roboflow_api_key)\n",
    "project = rf.workspace(\"joseph-nelson\").project(\"pistols\")\n",
    "version = project.version(1)\n",
    "dataset = version.download(\"coco\")\n"
   ]
  },
  {
   "cell_type": "code",
   "execution_count": 6,
   "metadata": {},
   "outputs": [],
   "source": [
    "import shutil\n",
    "\n",
    "export_folder = images_folder + \"/Pistols-1/export\"\n",
    "images = os.listdir(export_folder)\n",
    "os.chdir(export_folder)\n",
    "\n",
    "for i in range(0, len(images)):\n",
    "    shutil.move(images[i], images_folder)\n",
    "os.chdir(HOME)\n",
    "shutil.rmtree(images_folder + \"/Pistols-1\")"
   ]
  }
 ],
 "metadata": {
  "kernelspec": {
   "display_name": "base",
   "language": "python",
   "name": "python3"
  },
  "language_info": {
   "codemirror_mode": {
    "name": "ipython",
    "version": 3
   },
   "file_extension": ".py",
   "mimetype": "text/x-python",
   "name": "python",
   "nbconvert_exporter": "python",
   "pygments_lexer": "ipython3",
   "version": "3.12.7"
  }
 },
 "nbformat": 4,
 "nbformat_minor": 2
}
